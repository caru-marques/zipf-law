{
  "nbformat": 4,
  "nbformat_minor": 0,
  "metadata": {
    "colab": {
      "name": "zipf-law.ipynb",
      "provenance": []
    },
    "kernelspec": {
      "name": "python3",
      "display_name": "Python 3"
    },
    "language_info": {
      "name": "python"
    }
  },
  "cells": [
    {
      "cell_type": "markdown",
      "metadata": {
        "id": "s1pEzM19f58f"
      },
      "source": [
        "#**Tarefa Trilha 1 - PARADIGMAS DE LINGUAGEM DE PROGRAMAÇÃO EM CIÊNCIA DE DADOS**"
      ]
    },
    {
      "cell_type": "markdown",
      "metadata": {
        "id": "3CxRPeP5gMY2"
      },
      "source": [
        "Para esta tarefa, foi escolhido o início do conto \"O Leão, a Feiticeira e o Guarda Roupa\" de CS Lewis.\n",
        "Este conto foi escolhido por ser um dos meus favoritos e pela ligação do autor com a comunidade presbiteriana.\n",
        "\n",
        "Link de acesso no Github - https://github.com/caru-marques/zipf-law"
      ]
    },
    {
      "cell_type": "code",
      "metadata": {
        "id": "VvEirg-_kqR2"
      },
      "source": [
        "text = \"Era uma vez duas meninas e dois meninos: Susana, Lúcia, Pedro e Edmundo. Esta história nos conta algo que lhes aconteceu durante a guerra, quando tiveram de sair de Londres, por causa dos ataques aéreos. Foram os quatro levados para a casa de um velho professor, em pleno campo, a quinze quilômetros de distância da estrada de ferro e a mais de três quilômetros da agência de correios mais próxima. O professor era solteiro e morava numa casa muito grande, com D. Marta, a governanta, e três criadas, Eva, Margarida e Isabel, que não aparecem muito na história. O professor era um velho de cabelo desgrenhado e branco, que lhe encobria a maior parte do rosto, além da cabeça. As crianças gostaram dele quase imediatamente. Mas, na primeira noite, quando ele veio recebê-las, na porta principal, tinha uma aparência tão estranha, que Lúcia, a mais novinha, teve medo dele, e Edmundo (que era o segundo mais novo) quase começou a rir e, para disfarçar, teve de fingir que estava assoando o nariz. Naquela noite, depois de se despedirem do professor, os meninos foram para o quarto das meninas, onde trocaram impressões: — Tudo perfeito — disse Pedro. — Vai ser formidável. O velhinho deixa a gente fazer o que quiser. — É bem simpático — disse Susana. — Acabem com isso! — falou Edmundo, com muito sono, mas fingindo que não, o que o tornava sempre mal-humorado. — Não fiquem falando desse jeito! — Que jeito? — perguntou Susana. — Além do mais, já era hora de você estar dormindo. — Querendo falar feito mamãe — disse Edmundo. — Que direito você tem de me mandar dormir? Vá dormir você, se quiser. — É melhor irmos todos para a cama — disse Lúcia. — Vai haver confusão, se ouvirem a nossa conversa. — Não vai, não — disse Pedro. — Este é o tipo de casa em que a gente pode fazer o que quer. E, além do mais, ninguém está nos ouvindo. É preciso andar quase dez minutos daqui até a sala de jantar, e há uma porção de escadas e corredores pelo caminho. — Que barulho é esse? — perguntou Lúcia de repente. Era a maior casa que ela já tinha visto. A idéia de corredores compridos e fileiras de portas que vão dar em salas vazias começava agora a lhe dar arrepios. — Foi um passarinho, sua boba — disse Edmundo. — Foi uma coruja — disse Pedro. — Este lugar deve ser uma beleza para passarinhos. E agora pra cama! Amanhã vamos explorar tudo. Repararam nas montanhas do caminho? E os bosques? Aqui deve ter águia. Até veado. E falcão, com certeza. — E raposas! — disse Edmundo. — E coelhos! — disse Susana. Mas, quando amanheceu, caía uma chuva enjoada, tão grossa que, da janela, quase não se viam as montanhas, nem os bosques, nem sequer o riacho do quintal. — Tinha certeza de que ia chover! — disse Edmundo. Haviam acabado de tomar café com o professor e estavam na sala que lhes fora destinada, um aposento grande e sombrio, com quatro janelas. — Não fique reclamando e resmungando o tempo todo — disse Susana para Edmundo. — Aposto que, daqui a uma hora, o tempo melhora. Enquanto isso, temos um rádio e livros à vontade. — Isso não me interessa — disse Pedro. — Vou é explorar a casa. Todos concordaram, e foi assim que começaram as aventuras. Era o tipo da casa que parece não ter fim, cheia de lugares surpreendentes. As primeiras portas que entreabriram davam para quartos desabitados, como aliás já esperavam. Mas não demoraram a encontrar um salão cheio de quadros, onde também acharam uma coleção de armaduras. Havia a seguir uma sala forrada de verde, com uma harpa encostada a um canto. Depois de terem descido três degraus e subido cinco, chegaram a um pequeno saguão com uma porta, que dava para uma varanda, e ainda para uma série de salas, todas cobertas de livros de alto a baixo. Os livros eram quase todos muito antigos e enormes. Pouco depois, espiavam uma sala onde só existia um imenso guarda-roupa, daqueles que têm um espelho na porta. Nada mais na sala, a não ser uma mosca morta no peitoril da janela. — Aqui não tem nada! — disse Pedro, e saíram todos da sala. Todos menos Lúcia. Para ela, valia a pena tentar abrir a porta do guarda-roupa, mesmo tendo quase certeza de que estava fechada à chave. Ficou assim muito admirada ao ver que se abriu facilmente, deixando cair duas bolinhas de naftalina. Lá dentro viu dependurados compridos casacos de peles. Lúcia gostava muito do cheiro e do contato das peles. Pulou para dentro e se meteu entre os casacos, deixando que eles lhe afagassem o rosto. Não fechou a porta, naturalmente: sabia muito bem que seria uma tolice fechar-se dentro de um guarda-roupa. Foi avançando cada vez mais e descobriu que havia uma segunda fila de casacos pendurada atrás da primeira. Ali já estava meio escuro, e ela estendia os braços, para não bater com a cara no fundo do móvel. Deu mais uns passos, esperando sempre tocar no fundo com as pontas dos dedos. Mas nada encontrava. “Deve ser um guarda-roupa colossal!”, pensou Lúcia, avançando ainda mais. De repente notou que estava pisando qualquer coisa que se desfazia debaixo de seus pés. Seriam outras bolinhas de naftalina? Abaixou-se para examinar com as mãos. Em vez de achar o fundo liso e duro do guarda-roupa, encontrou uma coisa macia e fria, que se esfarelava nos dedos. “É muito estranho”, pensou, e deu mais um ou dois passos. O que agora lhe roçava o rosto e as mãos não eram mais as peles macias, mas algo duro, áspero e que espetava. — Ora essa! Parecem ramos de árvores! Só então viu que havia uma luz em frente, não a dois palmos do nariz, onde deveria estar o fundo do guarda-roupa, mas lá longe. Caía-lhe em cima uma coisa leve e macia. Um minuto depois, percebeu que estava num bosque, à noite, e que havia neve sob os seus pés, enquanto outros flocos tombavam do ar. Sentiu-se um pouco assustada, mas, ao mesmo tempo, excitada e cheia de curiosidade. Olhando para trás, lá no fundo, por entre os troncos sombrios das árvores, viu ainda a porta aberta do guarda-roupa e também distinguiu a sala vazia de onde havia saído. Naturalmente, deixara a porta aberta, porque bem sabia que é uma estupidez uma pessoa fechar-se num guarda-roupa. Lá longe ainda parecia divisar a luz do dia.\""
      ],
      "execution_count": 11,
      "outputs": []
    },
    {
      "cell_type": "code",
      "metadata": {
        "id": "UEwoXtn2f_vo"
      },
      "source": [
        "import re\n",
        "from operator import itemgetter    \n",
        "\n",
        "frequency = {}\n",
        "words = re.findall(r'(\\b[A-Za-z][a-z]{2,9}\\b)', text)\n",
        "\n",
        "for word in words:\n",
        "    count = frequency.get(word,0)\n",
        "    frequency[word] = count + 1\n",
        "    \n",
        "for key, value in reversed(sorted(frequency.items(), key = itemgetter(1))):\n",
        "    print(key, value)"
      ],
      "execution_count": null,
      "outputs": []
    }
  ]
}
